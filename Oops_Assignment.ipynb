{
  "nbformat": 4,
  "nbformat_minor": 0,
  "metadata": {
    "colab": {
      "provenance": []
    },
    "kernelspec": {
      "name": "python3",
      "display_name": "Python 3"
    },
    "language_info": {
      "name": "python"
    }
  },
  "cells": [
    {
      "cell_type": "markdown",
      "source": [
        "Que1. What is Object-Oriented Programming (OOP)?\n",
        "\n",
        "Ans:- Object oriented-programm (oop) is a programm paradigm that organizes software design around data, or object rather than function and logic. An object can be anything: a person, a car, a bank account, etc.\n",
        "\n",
        "- OOPs refers to languages that use objects in programming. Object-oriented programming aims to implement real-world entities like inheritance, hiding, polymorphism, etc in programming. The main aim of OOP is to bind together the data and the functions that operate on them so that no other part of the code can access this data except that function.\n",
        "\n",
        "Key concept:-\n",
        "- OOPs Concepts:\n",
        "\n",
        "- Class\n",
        "- Objects\n",
        "- Data Abstraction\n",
        "- Encapsulation\n",
        "- Inheritance\n",
        "- Polymorphism\n",
        "- Dynamic Binding\n",
        "- Message Passing"
      ],
      "metadata": {
        "id": "EWADHo7JNap3"
      }
    },
    {
      "cell_type": "markdown",
      "source": [
        "Que2. What is a class in OOP?\n",
        "\n",
        "Ans:- A class is a user-defined data type. It consists of data members and member functions, which can be accessed and used by creating an instance of that class. It represents the set of properties or methods that are common to all objects of one type. A class is like a blueprint for an object.  \n",
        "\n",
        "**For Example:**\n",
        "\n",
        "- Consider the Class of Cars. There may be many cars with different names and brands but all of them will share some common properties like all of them will have 4 wheels, Speed Limit, Mileage range, etc. So here, Car is the class, and wheels, speed limits, mileage are their properties.\n"
      ],
      "metadata": {
        "id": "cUQwvkkJQMGD"
      }
    },
    {
      "cell_type": "markdown",
      "source": [
        "Que3. What is an object in OOP?\n",
        "\n",
        "Ans:- It is a basic unit of Object-Oriented Programming and represents the real-life entities. An Object is an instance of a Class. When a class is defined, no memory is allocated but when it is instantiated (i.e. an object is created) memory is allocated. An object has an identity, state, and behavior. Each object contains data and code to manipulate the data. Objects can interact without having to know details of each other’s data or code, it is sufficient to know the type of message accepted and type of response returned by the objects.\n",
        "\n",
        "**For example**\n",
        "\n",
        "-  “Dog” is a real-life Object, which has some characteristics like color, Breed, Bark, Sleep, and Eats.\n",
        "\n"
      ],
      "metadata": {
        "id": "tV8rYuRiQ5DR"
      }
    },
    {
      "cell_type": "markdown",
      "source": [
        "Que4. What is the difference between abstraction and encapsulation+\n",
        "\n",
        "Ans:- Abstraction focus on simplify complex system by exposing on the necassary functionality, encapsulation bundles data and method within a singal unit, controlling access and ensure data protection.\n",
        "\n",
        "- Enscapsulation :- Wrapping data and code into a single unit (class) and hiding it from outside access\n",
        "\n",
        "**Abstraction:-**\n",
        "\n",
        "Purpose:- To simplify complexity by hiding internal logic.\n",
        "\n",
        "Focus:- Focuses on what an object does\n",
        "\n",
        "Implementation:- Done using abstract classes or interfaces\n",
        "\n",
        "Example (Analogy):- Driving a car without knowing how the engine works.\n",
        "\n",
        "**Enscapsulation:**-\n",
        "\n",
        "Purpose:- To protect data and maintain security\n",
        "\n",
        "Focus:- Focuses on how an object hides its data\n",
        "\n",
        "Implementation:- Done using access modifiers (private, public, etc.)\n",
        "\n",
        "Example (Analogy):- The engine is hidden inside the car body to protect it\n",
        "\n",
        "\n",
        "\n",
        "\n",
        "\n",
        "\n",
        "\n"
      ],
      "metadata": {
        "id": "Ak2D_89pTfR1"
      }
    },
    {
      "cell_type": "markdown",
      "source": [
        "Que5. What are dunder methods in Python?\n",
        "\n",
        "Ans:- Dunder methods (also called magic methods or special methods) in Python are methods that start and end with double underscores — hence the name “dunder”, short for “double underscore”.\n",
        "\n",
        "These methods are used to define how your objects behave with built-in functions and operators.\n",
        "\n",
        "- They are also called Dunder methods, Dunder here means \"Double Under (Underscores)\".\n"
      ],
      "metadata": {
        "id": "5aZa7vEHXS_v"
      }
    },
    {
      "cell_type": "markdown",
      "source": [
        "Que6. Explain the concept of inheritance in OOP?\n",
        "\n",
        "Ans:- Inheritance is a fundamental concept in object-oriented programming (OOP) that allows a class (called a child or derived class) to inherit attributes and methods from another class (called a parent or base class). This promotes code reuse, modularity, and a hierarchical class structure. In this article, we'll explore inheritance in Python.\n",
        "\n",
        "**Inheritance in OOP (Object-Oriented Programming)**\n",
        "\n",
        "Inheritance is a fundamental concept in OOP that allows one class (called a child or subclass) to inherit the properties and methods of another class (called a parent or superclass).\n",
        "\n",
        "It promotes code reuse and helps in creating a hierarchy of classes.\n",
        "\n",
        "**understand with basic example:- **\n",
        "\n",
        "          # Parent class\n",
        "      class Animal:\n",
        "        def speak(self):\n",
        "          print(\"Animal speaks\")\n",
        "\n",
        "        # Child class\n",
        "    class Dog(Animal):\n",
        "      def bark(self):\n",
        "        print(\"Dog barks\")\n",
        "\n",
        "    # Create object of Dog class\n",
        "    d = Dog()\n",
        "    d.speak()   # Inherited from Animal\n",
        "    d.bark()    # Defined in Dog\n",
        "\n",
        "Explaination:-\n",
        "\n",
        "- This is the parent class named Animal.\n",
        "\n",
        "- It has one method called speak(), which simply prints \"Animal speaks\".\n",
        "\n",
        "- A new class Dog is created.\n",
        "\n",
        "- Dog(Animal) means Dog is inheriting from Animal. So now, the Dog class automatically gets everything from Animal.\n",
        "\n",
        "- It also has its own method bark(), which prints \"Dog barks\".\n",
        "\n",
        "- Here we are creating an object of the Dog class and storing it in variable d.\n",
        "\n",
        "- Since Dog is a child of Animal, it can access both bark() and speak() methods.\n",
        "\n",
        "d.speak() → This calls the inherited method from the Animal class.\n",
        "\n",
        "d.bark() → This calls the method defined inside the Dog class.\n",
        "\n",
        "       \n",
        "\n",
        "\n",
        "\n"
      ],
      "metadata": {
        "id": "5jQJaqOSYMZn"
      }
    },
    {
      "cell_type": "markdown",
      "source": [
        "Que7. What is polymorphism in OOP?\n",
        "\n",
        "Ans:- Polymorphism in OOPs is one of the four important principles of object-oriented programming (OOP), which allows objects of different classes, objects, variables and methods to exist in different forms. With the help of polymorphism in oops, it is easy to represent one single form into various forms.\n",
        "\n",
        "There are two main types of polymorphism in object-oriented programming. These are compile-time polymorphism and Run-time polymorphism. Polymorphism allows flexibility and increases efficiency while designing software systems. We can add new classes easily with the help of polymorphism without modifying existing entities.\n",
        "\n",
        "**Types of Polymorphism in OOPs**\n",
        "\n",
        "- Compile time Polymorphism\n",
        "- Run time Polymorphism\n",
        "\n",
        "**Compile time Polymorphism :-** Compile time polymorphism is a type of polymorphism occurring when the method call gets resolved during compile time. Compile time polymorphism is achieved with the help of method overloading and operator overloading.\n",
        "\n",
        "**Run time Polymorphism :-** Run time polymorphism is a type of polymorphism in OOPS which is resolved during runtime. This is generally achieved with the help of method overriding. Method overriding is used to implement a method that is already defined in its parent class or super class. Runtime polymorphism in oops is also known as dynamic binding or late binding."
      ],
      "metadata": {
        "id": "ORx1aozRb4lE"
      }
    },
    {
      "cell_type": "markdown",
      "source": [
        "Que8. How is encapsulation achieved in Python?\n",
        "\n",
        "Ans:- In Python, encapsulation refers to the bundling of data (attributes) and methods (functions) that operate on the data into a single unit, typically a class. It also restricts direct access to some components, which helps protect the integrity of the data and ensures proper usage.\n",
        "\n",
        "**Here are the common ways to achieve encapsulation in Python:-**\n",
        "\n",
        "**Public Members:**  in a Python class are public, meaning they can be accessed from anywhere using the dot operator.\n",
        "\n",
        "**Protected Members:-** These are indicated by a single underscore prefix (e.g., _attribute). This convention suggests that the attribute or method is intended for internal use within the class and its subclasses.\n",
        "\n",
        "**Private Members:-** These are indicated by a double underscore prefix (e.g., __attribute). This naming convention triggers name mangling, making the attribute more difficult to access directly from outside the class.\n",
        "\n",
        "**Property Decorators:** Python's property decorator (@property) allows you to create getter and setter methods for class attributes, which helps control access and modification of data."
      ],
      "metadata": {
        "id": "Y3Nfj3yMdt2x"
      }
    },
    {
      "cell_type": "markdown",
      "source": [
        "Que9.  What is a constructor in Python?\n",
        "\n",
        "Ans:- A constructor is a special method that is automatically called when a new object of a class is created.\n",
        "In Python, the constructor method is named: __init__().\n",
        "\n",
        " Purpose of Constructor:\n",
        "To initialize the object when it is created.\n",
        "\n",
        "To set initial values for the object’s attributes.\n",
        "\n",
        "In Python, a constructor is a special method within a class that is automatically called when an object of that class is created. The primary purpose of a constructor is to initialize the attributes (data members) of the new object.\n",
        "\n",
        "Understand about constructors in Python with its points:-\n",
        "\n",
        "**Name:**\n",
        "The constructor method in Python is named __init__. It's a special method with double underscores before and after init.\n",
        "\n",
        "**Automatic Invocation: ** When you create an instance of a class (an object), Python automatically calls the __init__ method for that object.\n",
        "\n",
        "**Initialization:**\n",
        "Inside the__init__ method, you typically set the initial values for the object's attributes.\n",
        "\n",
        "**Self Parameter:**\n",
        "The__init__ method always takes at least one parameter, which is conventionally named self. This parameter refers to the instance of the class that is being created.\n",
        "\n",
        "**Parameters:**\n",
        "The__init__ method can accept additional parameters, which are used to initialize the attributes of the object with specific values.\n",
        "\n",
        "**Default Constructor:**\n",
        "If you don't define an__init__ method in your class, Python provides a default constructor that doesn't perform any initialization.\n",
        "\n",
        "***No Overloading: ***\n",
        "\n",
        "Python does not support constructor overloading in the traditional sense like some other languages. You can't have multiple__init__ methods with different parameter lists within the same class.\n",
        "\n",
        "\n",
        "\n"
      ],
      "metadata": {
        "id": "36_QL85zfyHA"
      }
    },
    {
      "cell_type": "markdown",
      "source": [
        "Que.10 What are class and static methods in Python?\n",
        "\n",
        "Ans:- **The class method:-**\n",
        "\n",
        " The @classmethod decorator is a built-in function decorator that is an expression that gets evaluated after your function is defined. The result of that evaluation shadows your function definition. A class method receives the class as an implicit first argument, just like an instance method receives the instance\n",
        "\n",
        "A class method is a method that is bound to the class and not the object of the class.\n",
        "- They have the access to the state of the class as it takes a class parameter that points to the class and not the object instance.\n",
        "- It can modify a class state that would apply across all the instances of the class. For example, it can modify a class variable that will be applicable to all the instances.\n",
        "\n",
        "**The Static Method in Python**\n",
        "\n",
        "A static method does not receive an implicit first argument. A static method is also a method that is bound to the class and not the object of the class. This method can't access or modify the class state. It is present in a class because it makes sense for the method to be present in class.\n",
        "\n",
        "\n",
        "\n"
      ],
      "metadata": {
        "id": "YB4i_Dt4iH-U"
      }
    },
    {
      "cell_type": "markdown",
      "source": [
        "Que11. What is method overloading in Python?\n",
        "\n",
        "Ans:- Method overloading in Python refers to the ability to define multiple methods with the same name but different parameters within the same class. However, unlike some other programming languages like Java, Python does not directly support method overloading in the traditional sense.\n",
        "\n",
        "Method Overloading is Achieved in Python:\n",
        "\n",
        "Default Arguments:\n",
        "Assign default values to parameters, allowing a method to be called with varying numbers of arguments.\n",
        "\n",
        "V**ariable-Length Arguments:-**(*args):\n",
        "Accept a variable number of positional arguments passed as a tuple.\n",
        "\n",
        "**Variable-Length Keyword Arguments **(`\n",
        "kwargs`):** Accept a variable number of keyword arguments passed as a dictionary.\n",
        "\n",
        "**Conditional Logic:**\n",
        "Employ conditional statements within a method to handle different argument types or numbers."
      ],
      "metadata": {
        "id": "toI1efM3jh8d"
      }
    },
    {
      "cell_type": "markdown",
      "source": [
        "Que12. What is method overriding in OOP?\n",
        "\n",
        "Ans:- The method overriding allows a subclass to provide a specific implementation of a method that is already defined in its superclass. This enables the subclass to modify or extend the behavior of the inherited method while maintaining the same method signature (name and parameters).\n",
        "\n",
        "- method overriding allows a subclass to provide a specific implementation of a method that is already defined in its superclass. This enables the subclass to modify or extend the behavior of the inherited method while maintaining the same method signature (name and parameters).\n",
        "\n",
        "\n"
      ],
      "metadata": {
        "id": "KKXi1-UjkYx5"
      }
    },
    {
      "cell_type": "markdown",
      "source": [
        "Que13. What is a property decorator in Python?\n",
        "\n",
        "Ans:- property decorator is a built-in decorator in Python which is helpful in defining the properties effortlessly without manually calling the inbuilt function property(). Which is used to return the property attributes of a class from the stated getter, setter and deleter as parameters\n",
        "\n",
        "-  decorator feature in Python wraps in a function, appends several functionalities to existing code and then returns it. Methods and functions are known to be callable as they can be called. Therefore, a decorator is also a callable that returns callable"
      ],
      "metadata": {
        "id": "M-XkFUsFla31"
      }
    },
    {
      "cell_type": "markdown",
      "source": [
        "Que14.Why is polymorphism important in OOP?\n",
        "\n",
        "Ans:- Polymorphism is a core concept of Object-Oriented Programming (OOP) that allows objects of different classes to be treated as objects of a common superclass. It lets you use a single interface to represent different underlying forms (data types or behaviors).\n",
        "\n",
        "Reasons Why Polymorphism is Important:\n",
        "\n",
        "**Code Reusability:-**\n",
        "\n",
        "- You can write generic code that works with different types of objects.\n",
        "\n",
        "- This avoids code duplication and improves maintainability.\n",
        "\n",
        "**Flexibility and Extensibility:-**\n",
        "\n",
        "- You can easily extend or replace classes without changing the main code logic.\n",
        "\n",
        "- Add new subclasses without modifying existing code (follows Open/Closed Principle).\n",
        "\n",
        "***Encapsulation and Abstraction Support:- ***\n",
        "\n",
        "- Hides internal details.\n",
        "\n",
        "- You only care about the interface (method name), not the exact class.\n",
        "\n",
        "***Enables Method Overriding:- ***\n",
        "\n",
        "Subclasses can override methods of the base class to give different behavior.\n",
        "\n",
        "**Supports Clean and Scalable Design:-**\n",
        "\n",
        "Makes your code easier to understand, manage, and scale.\n",
        "\n",
        "Useful in large projects and frameworks.\n",
        "\n",
        "\n",
        "      def animal_sound(animal):\n",
        "        animal.speak()\n",
        "\n",
        "      animal_sound(Dog())   # Dog barks\n",
        "      animal_sound(Cat())   # Cat meows\n",
        "\n",
        "        class Animal:\n",
        "      def speak(self):\n",
        "          print(\"Animal speaks\")\n",
        "\n",
        "        class Dog(Animal):\n",
        "      def speak(self):\n",
        "          print(\"Dog barks\")\n",
        "\n",
        "      class Cat(Animal):\n",
        "      def speak(self):\n",
        "          print(\"Cat meows\")\n",
        "\n",
        "      for a in [Dog(), Cat(), Animal()]:\n",
        "        a.speak()\n",
        "\n",
        "        #Dog barks  \n",
        "        Cat meows  \n",
        "        Animal speaks\n",
        "\n",
        "\n",
        "\n",
        "\n",
        "\n",
        "\n",
        "\n",
        "\n"
      ],
      "metadata": {
        "id": "WSs11vHVl9Vm"
      }
    },
    {
      "cell_type": "markdown",
      "source": [
        "Que.15 What is an abstract class in Python?\n",
        "\n",
        "Ans:- Abstract Classes in Python\n",
        "\n",
        "In Python, an abstract class is a class that cannot be instantiated on its own and is designed to be a blueprint for other classes. Abstract classes allow us to define methods that must be implemented by subclasses, ensuring a consistent interface while still allowing the subclasses to provide specific implementations.\n",
        "\n",
        " - An abstract class is a class that cannot be instantiated directly. It serves as a blueprint for other classes, ensuring that subclasses implement specific methods.\n",
        "\n",
        "\n",
        "                    from abc import ABC, abstractmethod\n",
        "\n",
        "                    class Shape(ABC):\n",
        "                      @abstractmethod\n",
        "                        def area(self):\n",
        "                        pass"
      ],
      "metadata": {
        "id": "zNJvQ0kjojU6"
      }
    },
    {
      "cell_type": "markdown",
      "source": [
        "Que.16 What are the advantages of OOP?\n",
        "\n",
        "Ans:- the key advantages of using OOP:\n",
        "\n",
        "- OOP language allows to break the program into the bit-sized problems that can be solved easily (one object at a time).\n",
        "- OOP systems can be easily upgraded from small to large systems.\n",
        "- It is possible that multiple instances of objects co-exist without any interference,\n",
        "- It is very easy to partition the work in a project based on objects.\n",
        "- It is possible to map the objects in problem domain to those in the program."
      ],
      "metadata": {
        "id": "g1l_E0PBpi4j"
      }
    },
    {
      "cell_type": "markdown",
      "source": [
        "Que.17 What is the difference between a class variable and an instance variable?\n",
        "\n",
        "Ans:- Instance Variable: It is basically a class variable without a static modifier and is usually shared by all class instances. Across different objects, these variables can have different values.\n",
        "\n",
        "- It is a variable whose value is instance-specific and now shared among instances.  \n",
        "\n",
        "- These variables cannot be shared between classes. Instead, they only belong to one specific class.  \n",
        "\n",
        "- It usually reserves memory for data that the class needs.\n",
        "\n",
        "- It is generally created when an instance of the class is created.\n",
        "\n",
        "- It normally retains values as long as the object exists.\n",
        "\n",
        "Class Variable:  It is basically a static variable that can be declared anywhere at class level with static. Across different objects, these variables can have only one value.\n",
        "\n",
        "- It is a variable that defines a specific attribute or property for a class.\n",
        "\n",
        "- These variables can be shared between class and its subclasses.\n",
        "\n",
        "- It usually maintains a single shared value for all instances of class even if\n",
        "  no instance object of the class exists.\n",
        "\n",
        "- It is generally created when the program begins to execute.\n",
        "\n",
        "- It normally retains values until the program terminates.\n"
      ],
      "metadata": {
        "id": "JL4Oq3lwrLCp"
      }
    },
    {
      "cell_type": "markdown",
      "source": [
        "Que18.What is multiple inheritance in Python?\n",
        "\n",
        "Ans: Multiple inheritances are when a child’s class is derived from two or more parent classes. For example, you are inheriting some of the features from your father and some from your mother. In this case, we have to write the names of both parent classes inside the brackets of the child class. The child class will derive the properties from both of the classes.\n",
        "\n",
        "            class A:\n",
        "    def greet(self):\n",
        "        print(\"Hello from A\")\n",
        "\n",
        "            class B:\n",
        "    def greet(self):\n",
        "        print(\"Hello from B\")\n",
        "\n",
        "    class C(A, B):  # Inherits from A and B\n",
        "      pass\n",
        "\n",
        "      c = C()\n",
        "      c.greet()   \n",
        "\n",
        "        Hello from A (because A is first)\n",
        "\n",
        "\n",
        "\n",
        "\n",
        "\n",
        "\n",
        "\n",
        "\n",
        "            \n",
        "            \n"
      ],
      "metadata": {
        "id": "X2omFCujtFYM"
      }
    },
    {
      "cell_type": "markdown",
      "source": [
        "Que19. Explain the purpose of ‘’__str__’ and ‘__repr__’ ‘ methods in Python?\n",
        "\n",
        "Ans: In Python, the str() and repr() functions are used to obtain string representations of objects. While they may seem similar at first glance, there are some differences in how they behave. Both of the functions can be helpful in debugging or printing useful information about the object.\n",
        "\n",
        "Python str()\n",
        "\n",
        "      s = 'Hello, Geeks.'\n",
        "      print (str(s))\n",
        "      print (str(2.0/11.0))\n",
        "\n",
        "      Hello, Geeks.\n",
        "      0.181818181818\n",
        "\n",
        "The __repr__() method returns a more information-rich, or official, string representation of an object. This method is called by the built-in repr() function. If possible, the string returned should be a valid Python expression that can be used to recreate the object. In all cases, the string should be informative and unambiguous.\n",
        "\n",
        "          s = 'Hello, Geeks.'\n",
        "          print (repr(s))\n",
        "          print (repr(2.0/11.0))\n",
        "\n",
        "          'Hello, Geeks.'\n",
        "          0.18181818181818182\n",
        "\n",
        "A user-defined class should also have a __repr__() if we need detailed information for debugging. And if we think it would be useful to have a string version for users, we create a __str__() function. In this example, We have created a class Complex which has two instance variables real and imag. We are creating custom __repr__() and __str__() methods in the class."
      ],
      "metadata": {
        "id": "-ea0vYigu0AD"
      }
    },
    {
      "cell_type": "markdown",
      "source": [
        "Que20. What is the significance of the ‘super()’ function in Python?\n",
        "\n",
        "Ans:- In Python, the super() function is used to refer to the parent class or superclass. It allows you to call methods defined in the superclass from the subclass, enabling you to extend and customize the functionality inherited from the parent class.\n",
        "\n",
        "      Syntax of super() in Python\n",
        "\n",
        "      Syntax: super()\n",
        "\n",
        "Return : Return a proxy object which represents the parent's class.\n",
        "\n",
        "\n",
        "A method from a parent class can be called in Python using the super() function. It's typical practice in object-oriented programming to call the methods of the superclass and enable method overriding and inheritance.\n",
        "\n",
        "***Benefits of Super Function:- ***\n",
        "\n",
        "- Need not remember or specify the parent class name to access its methods. This function can be used both in single and multiple inheritances.\n",
        "\n",
        "- This implements modularity (isolating changes) and code reusability as there is no need to rewrite the entire function.\n",
        "\n",
        "- The super function in Python is called dynamically because Python is a dynamic language, unlike other languages."
      ],
      "metadata": {
        "id": "__3-IK0qwg-e"
      }
    },
    {
      "cell_type": "markdown",
      "source": [
        "Que21. What is the significance of the __del__ method in Python?\n",
        "\n",
        "Ans:- The__del__ method is a special method in Python that is called when an object is about to be destroyed. It allows you to define specific cleanup actions that should be taken when an object is garbage collected. This method can be particularly useful for releasing external resources such as file handles, network connections, or database connections that the object may hold.\n",
        "\n",
        "**Overview the Python__del__ Method**\n",
        "\n",
        "**Purpose:** The__del__ method is used to define the actions that should be performed before an object is destroyed. This can include releasing external resources such as files or database connections associated with the object.\n",
        "\n",
        "**Usage:** When Python's garbage collector identifies that an object is no longer referenced by any part of the program, it schedules the__del__ method of that object to be called before reclaiming its memory.\n",
        "\n",
        "***Syntax: ***The__del__ method is defined using the following syntax."
      ],
      "metadata": {
        "id": "9eWlGeFxxcn9"
      }
    },
    {
      "cell_type": "markdown",
      "source": [
        "Que22. What is the difference between @staticmethod and @classmethod in Python?\n",
        "\n",
        "Ans:-***Class Method in Python? ***\n",
        "\n",
        "The @classmethod decorator is a built-in function decorator that is an expression that gets evaluated after your function is defined. The result of that evaluation shadows your function definition. A class method receives the class as an implicit first argument, just like an instance method receives the instance.\n",
        "\n",
        "**A static method:-** does not receive an implicit first argument. A static method is also a method that is bound to the class and not the object of the class. This method can't access or modify the class state. It is present in a class because it makes sense for the method to be present in class.\n",
        "\n",
        " ***@staticmethod:- ***\n",
        "\n",
        "A static method is a method that belongs to a class but does not have access to the class instance (self) or the class itself (cls).\n",
        "- It is essentially a regular function that is placed inside a class for organizational purposes.\n",
        "- It cannot access or modify class or instance attributes.\n",
        "- It is called directly on the class itself, without needing to create an instance.\n",
        "- It is used for utility functions that are related to the class but don't need to interact with its state.\n",
        "\n",
        "**@classmethod:-**\n",
        "\n",
        "A class method is a method that is bound to the class and receives the class - - itself (cls) as the first argument.\n",
        "- It can access and modify class attributes but not instance attributes.\n",
        "- It is called directly on the class itself, without needing to create an instance.\n",
        "- It is often used for factory methods that create instances of the class in a specific way or for manipulating class-level data\n",
        "\n",
        "\n",
        "              class MyClass:\n",
        "    def __init__(self, value):\n",
        "        self.value = value\n",
        "\n",
        "    def get_value(self):\n",
        "        return self.value\n",
        "\n",
        "\n",
        "    obj = MyClass(10)\n",
        "\n",
        "\n",
        "    print(obj.get_value())  \n",
        "        \n",
        "         10\n",
        "\n",
        "class MyClass:\n",
        "    def __init__(self, value):\n",
        "        self.value = value\n",
        "\n",
        "    @staticmethod\n",
        "    def get_max_value(x, y):\n",
        "        return max(x, y)\n",
        "\n",
        "\n",
        "    obj = MyClass(10)\n",
        "\n",
        "    print(MyClass.get_max_value(20, 30))  \n",
        "\n",
        "    print(obj.get_max_value(20, 30))\n",
        "\n",
        "\n",
        "    30\n",
        "    30"
      ],
      "metadata": {
        "id": "z281E3I6yovR"
      }
    },
    {
      "cell_type": "markdown",
      "source": [],
      "metadata": {
        "id": "ajYyQewAs-cR"
      }
    },
    {
      "cell_type": "markdown",
      "source": [
        "Que23.How does polymorphism work in Python with inheritance?\n",
        "\n",
        "Ans:- Polymorphism with inheritance allows subclasses to override methods of their parent class, and lets you call the same method name on objects of different classes, achieving different behaviors.\n",
        "\n",
        "Polymorphism means \"many forms\".\n",
        "In OOP, it allows the same method name to perform different actions depending on the object that is calling it.\n",
        "\n",
        "\n",
        "Understand about the example:-\n",
        "\n",
        "      class Animal:\n",
        "    def speak(self):\n",
        "        print(\"Animal speaks\")\n",
        "\n",
        "      class Dog(Animal):\n",
        "    def speak(self):\n",
        "        print(\"Dog barks\")\n",
        "\n",
        "      class Cat(Animal):\n",
        "    def speak(self):\n",
        "        print(\"Cat meows\")\n",
        "\n",
        "\n",
        "      animals = [Dog(), Cat(), Animal()]\n",
        "\n",
        "      for animal in animals:\n",
        "      animal.speak()   # Calls appropriate speak() based on object type\n"
      ],
      "metadata": {
        "id": "3t-PoBzH0a67"
      }
    },
    {
      "cell_type": "markdown",
      "source": [
        "Que24. What is method chaining in Python OOP?\n",
        "\n",
        "Ans:- Method chaining can be explained in simple terms as performing a series of operations on an object by chaining together multiple method calls. Each method modifies the object and returns the modified object itself. This pattern allows us to write cleaner and more readable code by combining multiple actions into a single line.\n",
        "\n",
        "\n",
        "        class Calculator:\n",
        "    def __init__(self, value=0):\n",
        "        self.value = value\n",
        "\n",
        "    def add(self, num):\n",
        "        self.value += num\n",
        "        return self\n",
        "\n",
        "    def subtract(self, num):\n",
        "        self.value -= num\n",
        "        return self\n",
        "\n",
        "    def multiply(self, num):\n",
        "        self.value *= num\n",
        "        return self\n",
        "\n",
        "\n",
        "    calc = Calculator(5)\n",
        "    .add(3)\n",
        "    .subtract(2)\n",
        "    .multiply(4)\n",
        "    print(calc.value)\n",
        "     24"
      ],
      "metadata": {
        "id": "F0FYu5Tu1N8z"
      }
    },
    {
      "cell_type": "markdown",
      "source": [
        "Que25. What is the purpose of the__call__ method in Python?\n",
        "\n",
        "Ans:- The __call__ method is part of Python build-in methods also called dunder or magic methods because have two prefixes and suffix underscores in the method name. The main idea of __call__ method is to write a class and invoke it like a function. You can refer to it as callable object.\n",
        "\n",
        "**Writing a callable object:**\n",
        "\n",
        "    class Test():\n",
        "    def __init__(self):\n",
        "        pass\n",
        "    def __call__(self):\n",
        "        print(\"Invoking '__call__' method\")\n"
      ],
      "metadata": {
        "id": "rMgxulEV2bWy"
      }
    },
    {
      "cell_type": "code",
      "source": [
        "#Que1.\n",
        "\n",
        "# Parent class\n",
        "class Animal:\n",
        "    def speak(self):\n",
        "        print(\"The animal makes a sound.\")\n",
        "\n",
        "# Child class\n",
        "class Dog(Animal):\n",
        "    def speak(self):\n",
        "        print(\"Bark!\")\n",
        "\n",
        "# Create objects\n",
        "a = Animal()\n",
        "d = Dog()\n",
        "\n",
        "# Call methods\n",
        "a.speak()\n",
        "d.speak()\n",
        "\n",
        "\n"
      ],
      "metadata": {
        "colab": {
          "base_uri": "https://localhost:8080/"
        },
        "id": "mAdybk1G4KX0",
        "outputId": "2576c027-d336-487a-efae-afbc9bf10b3b"
      },
      "execution_count": 9,
      "outputs": [
        {
          "output_type": "stream",
          "name": "stdout",
          "text": [
            "The animal makes a sound.\n",
            "Bark!\n"
          ]
        }
      ]
    },
    {
      "cell_type": "code",
      "source": [
        "#Que2.\n",
        "\n",
        "import math\n",
        "from abc import ABC, abstractmethod\n",
        "\n",
        "# Abstract class\n",
        "class Shape(ABC):\n",
        "    @abstractmethod\n",
        "    def area(self):\n",
        "        pass\n",
        "\n",
        "# Circle class\n",
        "class Circle(Shape):\n",
        "    def __init__(self, radius):\n",
        "        self.radius = radius\n",
        "\n",
        "    def area(self):\n",
        "        return math.pi * self.radius * self.radius\n",
        "\n",
        "# Rectangle class\n",
        "class Rectangle(Shape):\n",
        "    def __init__(self, length, width):\n",
        "        self.length = length\n",
        "        self.width = width\n",
        "\n",
        "    def area(self):\n",
        "        return self.length * self.width\n",
        "\n",
        "# Create objects\n",
        "c = Circle(5)\n",
        "r = Rectangle(4, 6)\n",
        "\n",
        "# Print areas\n",
        "print(\"Area of Circle:\", c.area())\n",
        "print(\"Area of Rectangle:\", r.area())\n"
      ],
      "metadata": {
        "colab": {
          "base_uri": "https://localhost:8080/"
        },
        "id": "iKTAcFfG4pFS",
        "outputId": "c6d61b87-181d-4096-8e1b-bd5c53b4d762"
      },
      "execution_count": 8,
      "outputs": [
        {
          "output_type": "stream",
          "name": "stdout",
          "text": [
            "Area of Circle: 78.53981633974483\n",
            "Area of Rectangle: 24\n"
          ]
        }
      ]
    },
    {
      "cell_type": "code",
      "source": [
        "#Que3.\n",
        "class Vehicle:\n",
        "    def __init__(self, vehicle_type):\n",
        "        self.type = vehicle_type\n",
        "\n",
        "# First-level derived class\n",
        "class Car(Vehicle):\n",
        "    def __init__(self, vehicle_type, brand):\n",
        "        super().__init__(vehicle_type)\n",
        "        self.brand = brand\n",
        "\n",
        "# Second-level derived class\n",
        "class ElectricCar(Car):\n",
        "    def __init__(self, vehicle_type, brand, battery_capacity):\n",
        "        super().__init__(vehicle_type, brand)\n",
        "        self.battery = battery_capacity\n",
        "\n",
        "    def display_info(self):\n",
        "        print(\"Vehicle Type:\", self.type)\n",
        "        print(\"Brand:\", self.brand)\n",
        "        print(\"Battery Capacity:\", self.battery, \"kWh\")\n",
        "\n",
        "\n",
        "\n",
        "\n",
        "\n"
      ],
      "metadata": {
        "id": "SqoYzdG45TJw"
      },
      "execution_count": 6,
      "outputs": []
    },
    {
      "cell_type": "code",
      "source": [
        "#Que4.\n",
        "\n",
        "class Bird:\n",
        "    def fly(self):\n",
        "        print(\"Bird is flying\")\n",
        "\n",
        "# class 1\n",
        "class Sparrow(Bird):\n",
        "    def fly(self):\n",
        "        print(\"Sparrow flies high in the sky!\")\n",
        "\n",
        "# class 2\n",
        "class Penguin(Bird):\n",
        "    def fly(self):\n",
        "        print(\"Penguins cannot fly, but they swim well!\")\n",
        "\n",
        "# Polymorphism in action\n",
        "birds = [Sparrow(), Penguin()]\n",
        "\n",
        "for bird in birds:\n",
        "    bird.fly()\n",
        "\n",
        "\n",
        "\n"
      ],
      "metadata": {
        "colab": {
          "base_uri": "https://localhost:8080/"
        },
        "id": "OH4X9yQc7kCA",
        "outputId": "b37652c4-b6f6-489e-a9e8-c85fafbfb2d6"
      },
      "execution_count": 5,
      "outputs": [
        {
          "output_type": "stream",
          "name": "stdout",
          "text": [
            "Sparrow flies high in the sky!\n",
            "Penguins cannot fly, but they swim well!\n"
          ]
        }
      ]
    },
    {
      "cell_type": "code",
      "source": [
        "#Que5.\n",
        "\n",
        "    class BankAccount:\n",
        "\n",
        "    def __init__(self, initial_balance=0):\n",
        "        self.__balance = initial_balance\n",
        "\n",
        "    # Method to deposit money\n",
        "    def deposit(self, amount):\n",
        "        if amount > 0:\n",
        "            self.__balance += amount\n",
        "            print(f\"Deposited ₹{amount}\")\n",
        "        else:\n",
        "            print(\"Invalid deposit amount.\")\n",
        "\n",
        "    # Method to withdraw money\n",
        "    def withdraw(self, amount):\n",
        "        if 0 < amount <= self.__balance:\n",
        "            self.__balance -= amount\n",
        "            print(f\"Withdrew ₹{amount}\")\n",
        "        else:\n",
        "            print(\"Insufficient balance or invalid amount.\")\n",
        "\n",
        "    # Method to check balance\n",
        "    def check_balance(self):\n",
        "        print(f\"Current Balance: ₹{self.__balance}\")\n",
        "\n",
        "\n",
        "account = BankAccount(1000)\n",
        "\n",
        "account.check_balance()      # Show balance\n",
        "account.deposit(500)         # Deposit ₹500\n",
        "account.withdraw(300)        # Withdraw ₹300\n",
        "account.check_balance()      # Final balance\n",
        "\n",
        "\n",
        "\n",
        "\n",
        "\n"
      ],
      "metadata": {
        "colab": {
          "base_uri": "https://localhost:8080/",
          "height": 106
        },
        "id": "LgGUupjt7-MP",
        "outputId": "c3cb3189-525f-452e-e465-1ffbb7ad6aa3"
      },
      "execution_count": 2,
      "outputs": [
        {
          "output_type": "error",
          "ename": "IndentationError",
          "evalue": "expected an indented block after class definition on line 1 (<ipython-input-2-593585bf9b56>, line 2)",
          "traceback": [
            "\u001b[0;36m  File \u001b[0;32m\"<ipython-input-2-593585bf9b56>\"\u001b[0;36m, line \u001b[0;32m2\u001b[0m\n\u001b[0;31m    def __init__(self, initial_balance=0):\u001b[0m\n\u001b[0m    ^\u001b[0m\n\u001b[0;31mIndentationError\u001b[0m\u001b[0;31m:\u001b[0m expected an indented block after class definition on line 1\n"
          ]
        }
      ]
    },
    {
      "cell_type": "code",
      "source": [
        "#Que6.\n",
        "\n",
        "# Base class\n",
        "class Instrument:\n",
        "    def play(self):\n",
        "        print(\"Instrument is playing\")\n",
        "\n",
        "# Derived class: Guitar\n",
        "class Guitar(Instrument):\n",
        "    def play(self):\n",
        "        print(\"Strumming the guitar\")\n",
        "\n",
        "# Derived class: Piano\n",
        "class Piano(Instrument):\n",
        "    def play(self):\n",
        "        print(\"Playing the piano\")\n",
        "\n",
        "# Polymorphism in action\n",
        "instruments = [Guitar(), Piano()]\n",
        "\n",
        "for instrument in instruments:\n",
        "    instrument.play()  # Calls the correct version of play() based on object\n"
      ],
      "metadata": {
        "colab": {
          "base_uri": "https://localhost:8080/"
        },
        "id": "m-kuWcnX8auG",
        "outputId": "93c1bea9-1ff1-4b91-c898-ac3529768c48"
      },
      "execution_count": 1,
      "outputs": [
        {
          "output_type": "stream",
          "name": "stdout",
          "text": [
            "Strumming the guitar\n",
            "Playing the piano\n"
          ]
        }
      ]
    },
    {
      "cell_type": "code",
      "source": [
        "#Que7.\n",
        "\n",
        "\n",
        "class MathOperations:\n",
        "    @classmethod\n",
        "    def add_numbers(cls, a, b):\n",
        "        return a + b\n",
        "\n",
        "    @staticmethod\n",
        "    def subtract_numbers(a, b):\n",
        "        return a - b\n",
        "\n",
        "# Using the class method\n",
        "result1 = MathOperations.add_numbers(20, 10)\n",
        "print(\"Addition:\", result1)\n",
        "\n",
        "# Using the static method\n",
        "result2 = MathOperations.subtract_numbers(20, 10)\n",
        "print(\"Subtraction:\", result2)\n"
      ],
      "metadata": {
        "colab": {
          "base_uri": "https://localhost:8080/"
        },
        "id": "lTg2hf9l9kK3",
        "outputId": "2b88bf6e-9f8a-461b-dd08-cb436e590c6d"
      },
      "execution_count": 10,
      "outputs": [
        {
          "output_type": "stream",
          "name": "stdout",
          "text": [
            "Addition: 30\n",
            "Subtraction: 10\n"
          ]
        }
      ]
    },
    {
      "cell_type": "code",
      "execution_count": 41,
      "metadata": {
        "colab": {
          "base_uri": "https://localhost:8080/"
        },
        "id": "tKmr7UqkM68H",
        "outputId": "c4926750-b06e-4227-b443-f664309019b6"
      },
      "outputs": [
        {
          "output_type": "stream",
          "name": "stdout",
          "text": [
            "Total persons created: 3\n"
          ]
        }
      ],
      "source": [
        "#Que8.\n",
        "\n",
        "class Person:\n",
        "    count = 0\n",
        "\n",
        "    def __init__(self, name):\n",
        "        self.name = name\n",
        "        Person.count += 1\n",
        "\n",
        "    @classmethod\n",
        "    def total_persons(cls):\n",
        "        return cls.count\n",
        "\n",
        "p1 = Person(\"Alice\")\n",
        "p2 = Person(\"Bob\")\n",
        "p3 = Person(\"Charlie\")\n",
        "\n",
        "print(\"Total persons created:\", Person.total_persons())\n"
      ]
    },
    {
      "cell_type": "code",
      "source": [
        "#Que9.\n",
        "\n",
        "class Fraction:\n",
        "    def __init__(self, numerator, denominator):\n",
        "        self.numerator = numerator\n",
        "        self.denominator = denominator\n",
        "\n",
        "    def __str__(self):\n",
        "        return f\"{self.numerator}/{self.denominator}\"\n",
        "f = Fraction(3, 4)\n",
        "\n",
        "print(\"Fraction is:\", f)\n",
        "\n"
      ],
      "metadata": {
        "colab": {
          "base_uri": "https://localhost:8080/"
        },
        "id": "LTUQsI4790Q4",
        "outputId": "b0a44df3-94a2-4be9-b307-f13a354f9e5b"
      },
      "execution_count": 24,
      "outputs": [
        {
          "output_type": "stream",
          "name": "stdout",
          "text": [
            "Fraction is: 3/4\n"
          ]
        }
      ]
    },
    {
      "cell_type": "code",
      "source": [
        "#Que10.\n",
        "\n",
        "class Vector:\n",
        "    def __init__(self, x, y):\n",
        "        self.x = x\n",
        "        self.y = y\n",
        "\n",
        "    def __add__(self, other):\n",
        "        return Vector(self.x + other.x, self.y + other.y)\n",
        "\n",
        "    def __str__(self):\n",
        "        return f\"Vector({self.x}, {self.y})\"\n",
        "\n",
        "v1 = Vector(2, 3)\n",
        "v2 = Vector(4, 5)\n",
        "\n",
        "v3 = v1 + v2\n",
        "\n",
        "# Print result\n",
        "print(\"Vector 1:\", v1)\n",
        "print(\"Vector 2:\", v2)\n",
        "print(\"Sum:\", v3)\n"
      ],
      "metadata": {
        "colab": {
          "base_uri": "https://localhost:8080/"
        },
        "id": "00t2TDKc-HMM",
        "outputId": "7722eab5-1aee-4daf-c338-dfceed889da5"
      },
      "execution_count": 30,
      "outputs": [
        {
          "output_type": "stream",
          "name": "stdout",
          "text": [
            "Vector 1: Vector(2, 3)\n",
            "Vector 2: Vector(4, 5)\n",
            "Sum: Vector(6, 8)\n"
          ]
        }
      ]
    },
    {
      "cell_type": "code",
      "source": [
        "#Que11.\n",
        "class Person:\n",
        "    def __init__(self, name, age):\n",
        "        self.name = name\n",
        "        self.age = age\n",
        "\n",
        "    def greet(self):\n",
        "        print(f\"Hello, my name is {self.name} and I am {self.age} years old.\")\n",
        "\n",
        "p1 = Person(\"Alice\", 25)\n",
        "\n",
        "p1.greet()\n",
        "\n",
        "\n"
      ],
      "metadata": {
        "colab": {
          "base_uri": "https://localhost:8080/"
        },
        "id": "VpmsoZA8_d02",
        "outputId": "de03bf0e-5e19-448c-b943-eca5929cdc4c"
      },
      "execution_count": 32,
      "outputs": [
        {
          "output_type": "stream",
          "name": "stdout",
          "text": [
            "Hello, my name is Alice and I am 25 years old.\n"
          ]
        }
      ]
    },
    {
      "cell_type": "code",
      "source": [
        "#Que12.\n",
        "class Student:\n",
        "    def __init__(self, name, grades):\n",
        "        self.name = name\n",
        "        self.grades = grades\n",
        "\n",
        "    def average_grade(self):\n",
        "        if not self.grades:\n",
        "            return 0\n",
        "        return sum(self.grades) / len(self.grades)\n",
        "\n",
        "student1 = Student(\"Ravi\", [85, 90, 78, 92])\n",
        "\n",
        "print(f\"{student1.name}'s average grade is: {student1.average_grade():.2f}\")\n"
      ],
      "metadata": {
        "colab": {
          "base_uri": "https://localhost:8080/"
        },
        "id": "2YsAK_8nBBOG",
        "outputId": "a0926014-dda9-40c7-b168-4390da2d69c8"
      },
      "execution_count": 33,
      "outputs": [
        {
          "output_type": "stream",
          "name": "stdout",
          "text": [
            "Ravi's average grade is: 86.25\n"
          ]
        }
      ]
    },
    {
      "cell_type": "code",
      "source": [
        "#Que13.\n",
        "class Rectangle:\n",
        "    def __init__(self):\n",
        "        self.width = 0\n",
        "        self.height = 0\n",
        "\n",
        "    def set_dimensions(self, width, height):\n",
        "        self.width = width\n",
        "        self.height = height\n",
        "\n",
        "    def area(self):\n",
        "        return self.width * self.height\n",
        "\n",
        "rect = Rectangle()\n",
        "rect.set_dimensions(5, 10)\n",
        "print(\"Area of rectangle:\", rect.area())\n"
      ],
      "metadata": {
        "colab": {
          "base_uri": "https://localhost:8080/"
        },
        "id": "_0fwsOJJBZAV",
        "outputId": "2aa5c963-f411-44d1-a1eb-878f0ad55953"
      },
      "execution_count": 34,
      "outputs": [
        {
          "output_type": "stream",
          "name": "stdout",
          "text": [
            "Area of rectangle: 50\n"
          ]
        }
      ]
    },
    {
      "cell_type": "code",
      "source": [
        "#Que14\n",
        "class Employee:\n",
        "    def __init__(self, name, hours_worked, hourly_rate):\n",
        "        self.name = name\n",
        "        self.hours_worked = hours_worked\n",
        "        self.hourly_rate = hourly_rate\n",
        "\n",
        "    def calculate_salary(self):\n",
        "        return self.hours_worked * self.hourly_rate\n",
        "\n",
        "class Manager(Employee):\n",
        "    def __init__(self, name, hours_worked, hourly_rate, bonus):\n",
        "        super().__init__(name, hours_worked, hourly_rate)\n",
        "        self.bonus = bonus\n",
        "\n",
        "    def calculate_salary(self):\n",
        "        base_salary = super().calculate_salary()\n",
        "        return base_salary + self.bonus\n",
        "\n",
        "emp = Employee(\"John\", 40, 15)\n",
        "mgr = Manager(\"Alice\", 40, 20, 500)\n",
        "\n",
        "print(f\"{emp.name}'s Salary: ₹{emp.calculate_salary()}\")\n",
        "print(f\"{mgr.name}'s Salary: ₹{mgr.calculate_salary()}\")\n"
      ],
      "metadata": {
        "colab": {
          "base_uri": "https://localhost:8080/"
        },
        "id": "G7rkx8dpBm_D",
        "outputId": "acaa32a5-0869-460f-817a-c92200a64980"
      },
      "execution_count": 35,
      "outputs": [
        {
          "output_type": "stream",
          "name": "stdout",
          "text": [
            "John's Salary: ₹600\n",
            "Alice's Salary: ₹1300\n"
          ]
        }
      ]
    },
    {
      "cell_type": "code",
      "source": [
        "#Que15.\n",
        "class Product:\n",
        "    def __init__(self, name, price, quantity):\n",
        "        self.name = name\n",
        "        self.price = price\n",
        "        self.quantity = quantity\n",
        "\n",
        "    def total_price(self):\n",
        "        return self.price * self.quantity\n",
        "\n",
        "product = Product(\"Laptop\", 75000, 3)\n",
        "print(f\"Total price of {product.name}: ₹{product.total_price()}\")\n"
      ],
      "metadata": {
        "colab": {
          "base_uri": "https://localhost:8080/"
        },
        "id": "clvG11bMCK0l",
        "outputId": "18d167b9-8e42-4222-ecd6-1534eb77c65d"
      },
      "execution_count": 36,
      "outputs": [
        {
          "output_type": "stream",
          "name": "stdout",
          "text": [
            "Total price of Laptop: ₹225000\n"
          ]
        }
      ]
    },
    {
      "cell_type": "code",
      "source": [
        "#Que16\n",
        "from abc import ABC, abstractmethod\n",
        "\n",
        "class Animal(ABC):\n",
        "    @abstractmethod\n",
        "    def sound(self):\n",
        "        pass\n",
        "\n",
        "class Cow(Animal):\n",
        "    def sound(self):\n",
        "        print(\"Cow says: Moo!\")\n",
        "\n",
        "class Sheep(Animal):\n",
        "    def sound(self):\n",
        "        print(\"Sheep says: Baa!\")\n",
        "\n",
        "cow = Cow()\n",
        "sheep = Sheep()\n",
        "\n",
        "cow.sound()\n",
        "sheep.sound()\n"
      ],
      "metadata": {
        "colab": {
          "base_uri": "https://localhost:8080/"
        },
        "id": "6_6FaSrJCUoe",
        "outputId": "ff217321-0c7e-406f-8c40-2fc12157757c"
      },
      "execution_count": 37,
      "outputs": [
        {
          "output_type": "stream",
          "name": "stdout",
          "text": [
            "Cow says: Moo!\n",
            "Sheep says: Baa!\n"
          ]
        }
      ]
    },
    {
      "cell_type": "code",
      "source": [
        "#Que17\n",
        "class Book:\n",
        "    def __init__(self, title, author, year_published):\n",
        "        self.title = title\n",
        "        self.author = author\n",
        "        self.year_published = year_published\n",
        "\n",
        "    def get_book_info(self):\n",
        "        return f\"'{self.title}' by {self.author}, published in {self.year_published}\"\n",
        "\n",
        "book = Book(\"To Kill a Mockingbird\", \"Harper Lee\", 1960)\n",
        "print(book.get_book_info())\n"
      ],
      "metadata": {
        "colab": {
          "base_uri": "https://localhost:8080/"
        },
        "id": "Uxsqr2DtCwc7",
        "outputId": "484597c4-31dd-400b-8d7d-a151b5c99015"
      },
      "execution_count": 38,
      "outputs": [
        {
          "output_type": "stream",
          "name": "stdout",
          "text": [
            "'To Kill a Mockingbird' by Harper Lee, published in 1960\n"
          ]
        }
      ]
    },
    {
      "cell_type": "code",
      "source": [
        "#Que18\n",
        "class House:\n",
        "    def __init__(self, address, price):\n",
        "        self.address = address\n",
        "        self.price = price\n",
        "\n",
        "class Mansion(House):\n",
        "    def __init__(self, address, price, number_of_rooms):\n",
        "        super().__init__(address, price)\n",
        "        self.number_of_rooms = number_of_rooms\n",
        "\n",
        "#For example:-\n",
        "house = House(\"123 Main St\", 500000)\n",
        "mansion = Mansion(\"456 Luxury Rd\", 2000000, 10)\n",
        "\n",
        "print(f\"House Address: {house.address}, Price: ₹{house.price}\")\n",
        "print(f\"Mansion Address: {mansion.address}, Price: ₹{mansion.price}, Rooms: {mansion.number_of_rooms}\")\n"
      ],
      "metadata": {
        "colab": {
          "base_uri": "https://localhost:8080/"
        },
        "id": "ggCpBNfYDRGQ",
        "outputId": "5ae92fc3-5b3a-4333-f439-c05a93bcf46b"
      },
      "execution_count": 40,
      "outputs": [
        {
          "output_type": "stream",
          "name": "stdout",
          "text": [
            "House Address: 123 Main St, Price: ₹500000\n",
            "Mansion Address: 456 Luxury Rd, Price: ₹2000000, Rooms: 10\n"
          ]
        }
      ]
    },
    {
      "cell_type": "code",
      "source": [],
      "metadata": {
        "id": "ao1tq_VDDezx"
      },
      "execution_count": null,
      "outputs": []
    }
  ]
}